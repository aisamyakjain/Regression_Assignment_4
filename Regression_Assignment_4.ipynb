{
 "cells": [
  {
   "cell_type": "markdown",
   "id": "57f4ecd2-410e-44f9-9c98-e328f1582724",
   "metadata": {},
   "source": [
    "## Lasso Regression Assignment"
   ]
  },
  {
   "cell_type": "markdown",
   "id": "c38f519b-2949-437a-80aa-c788d36ccc7d",
   "metadata": {},
   "source": [
    "Q1. What is Lasso Regression, and how does it differ from other regression techninque?\n",
    "\n",
    "Answer: Lasso Regression is a linear regression method that adds a penalty term to the cost function, promoting sparsity by shrinking some coefficient estimates to zero."
   ]
  },
  {
   "cell_type": "markdown",
   "id": "6385c85a-7eb1-4533-b049-639c8890eb84",
   "metadata": {},
   "source": [
    "Q2. What is the main advantage of using Lasso Regression in feature selection?\n",
    "\n",
    "Answer: The main advantage of Lasso Regression in feature selection is its ability to automatically select relevant features and perform feature elimination by shrinking coefficients to zero."
   ]
  },
  {
   "cell_type": "markdown",
   "id": "24805c4d-fe5f-4bc6-aa70-f418b285e4af",
   "metadata": {},
   "source": [
    "Q3. How do you interpret the coefficients of a Lasso Regression model?\n",
    "\n",
    "Answer: The coefficients in Lasso Regression indicate the strength and direction of the relationship between each feature and the target variable, with zero coefficients indicating features with no predictive power."
   ]
  },
  {
   "cell_type": "markdown",
   "id": "2a048200-3d6f-4b4c-9825-86b5243ef98b",
   "metadata": {},
   "source": [
    "Q4. What are the tuning parameters that can be adjusted in Lasso Regression, and how do they affect the \n",
    "model's performance?\n",
    "\n",
    "Answer: The main tuning parameter in Lasso Regression is the regularization strength, which controls the amount of shrinkage applied to the coefficients. Increasing regularization strength results in more coefficients being shrunk towards zero, leading to increased sparsity and potentially improved model generalization."
   ]
  },
  {
   "cell_type": "markdown",
   "id": "9d092d84-c6ca-4503-b11e-0464d3201c36",
   "metadata": {},
   "source": [
    "Q5. Can Lasso Regression be used for non-linear regression problems? If yes, how?\n",
    "\n",
    "Answer: Lasso Regression is primarily designed for linear regression problems. However, it can be combined with nonlinear transformations of features to handle non-linear relationships in the data."
   ]
  },
  {
   "cell_type": "markdown",
   "id": "27ab46ea-4a2a-46b8-80f7-aade3507a1e2",
   "metadata": {},
   "source": [
    "Q6. What is the difference between Ridge Regression and Lasso Regression?\n",
    "\n",
    "Answer: Ridge Regression adds a penalty term to the cost function that shrinks the coefficients, while Lasso Regression can shrink coefficients to zero, enabling feature selection."
   ]
  },
  {
   "cell_type": "markdown",
   "id": "edc7fd4d-b590-422b-8480-e35e0535bf1e",
   "metadata": {},
   "source": [
    "Q7. Can Lasso Regression handle multicollinearity in the input features? If yes, how?\n",
    "\n",
    "Answer: Lasso Regression can handle multicollinearity to some extent by automatically selecting one of the correlated features and shrinking the coefficients of the others to zero."
   ]
  },
  {
   "cell_type": "markdown",
   "id": "6f9fb4b0-1a0d-4cf3-a335-daaff50f6aba",
   "metadata": {},
   "source": [
    "Q8. How do you choose the optimal value of the regularization parameter (lambda) in Lasso Regression \n",
    "\n",
    "Answer: The optimal value of the regularization parameter (lambda) in Lasso Regression can be chosen through techniques such as cross-validation or grid search to minimize the model's error or maximize performance metrics."
   ]
  },
  {
   "cell_type": "code",
   "execution_count": null,
   "id": "052dad28-fbd6-4cf6-9597-76fe7cb9a16d",
   "metadata": {},
   "outputs": [],
   "source": []
  }
 ],
 "metadata": {
  "kernelspec": {
   "display_name": "Python 3 (ipykernel)",
   "language": "python",
   "name": "python3"
  },
  "language_info": {
   "codemirror_mode": {
    "name": "ipython",
    "version": 3
   },
   "file_extension": ".py",
   "mimetype": "text/x-python",
   "name": "python",
   "nbconvert_exporter": "python",
   "pygments_lexer": "ipython3",
   "version": "3.10.8"
  }
 },
 "nbformat": 4,
 "nbformat_minor": 5
}
